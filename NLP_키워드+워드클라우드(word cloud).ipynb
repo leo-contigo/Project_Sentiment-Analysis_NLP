{
  "cells": [
    {
      "cell_type": "markdown",
      "metadata": {
        "id": "J73l5jvW5OQ3"
      },
      "source": [
        "# 기본 설정"
      ]
    },
    {
      "cell_type": "code",
      "execution_count": 1,
      "metadata": {
        "colab": {
          "base_uri": "https://localhost:8080/"
        },
        "id": "qsygbt2F1yKT",
        "outputId": "6d500b8d-ec7d-47c2-a617-7a794a664e85"
      },
      "outputs": [
        {
          "output_type": "stream",
          "name": "stdout",
          "text": [
            "Reading package lists... Done\n",
            "Building dependency tree       \n",
            "Reading state information... Done\n",
            "The following package was automatically installed and is no longer required:\n",
            "  libnvidia-common-460\n",
            "Use 'sudo apt autoremove' to remove it.\n",
            "The following NEW packages will be installed:\n",
            "  fonts-nanum\n",
            "0 upgraded, 1 newly installed, 0 to remove and 5 not upgraded.\n",
            "Need to get 9,604 kB of archives.\n",
            "After this operation, 29.5 MB of additional disk space will be used.\n",
            "Get:1 http://archive.ubuntu.com/ubuntu bionic/universe amd64 fonts-nanum all 20170925-1 [9,604 kB]\n",
            "Fetched 9,604 kB in 1s (16.9 MB/s)\n",
            "debconf: unable to initialize frontend: Dialog\n",
            "debconf: (No usable dialog-like program is installed, so the dialog based frontend cannot be used. at /usr/share/perl5/Debconf/FrontEnd/Dialog.pm line 76, <> line 1.)\n",
            "debconf: falling back to frontend: Readline\n",
            "debconf: unable to initialize frontend: Readline\n",
            "debconf: (This frontend requires a controlling tty.)\n",
            "debconf: falling back to frontend: Teletype\n",
            "dpkg-preconfigure: unable to re-open stdin: \n",
            "Selecting previously unselected package fonts-nanum.\n",
            "(Reading database ... 123942 files and directories currently installed.)\n",
            "Preparing to unpack .../fonts-nanum_20170925-1_all.deb ...\n",
            "Unpacking fonts-nanum (20170925-1) ...\n",
            "Setting up fonts-nanum (20170925-1) ...\n",
            "Processing triggers for fontconfig (2.12.6-0ubuntu2) ...\n",
            "/usr/share/fonts: caching, new cache contents: 0 fonts, 1 dirs\n",
            "/usr/share/fonts/truetype: caching, new cache contents: 0 fonts, 3 dirs\n",
            "/usr/share/fonts/truetype/humor-sans: caching, new cache contents: 1 fonts, 0 dirs\n",
            "/usr/share/fonts/truetype/liberation: caching, new cache contents: 16 fonts, 0 dirs\n",
            "/usr/share/fonts/truetype/nanum: caching, new cache contents: 10 fonts, 0 dirs\n",
            "/usr/local/share/fonts: caching, new cache contents: 0 fonts, 0 dirs\n",
            "/root/.local/share/fonts: skipping, no such directory\n",
            "/root/.fonts: skipping, no such directory\n",
            "/var/cache/fontconfig: cleaning cache directory\n",
            "/root/.cache/fontconfig: not cleaning non-existent cache directory\n",
            "/root/.fontconfig: not cleaning non-existent cache directory\n",
            "fc-cache: succeeded\n"
          ]
        }
      ],
      "source": [
        "# 코랩 한글 설정 실행 후 런타임 다시 시작 하고 \n",
        "# 밑에 셀 부터 실행하기\n",
        "\n",
        "!sudo apt-get install -y fonts-nanum\n",
        "!sudo fc-cache -fv\n",
        "!rm ~/.cache/matplotlib -rf\n",
        "\n",
        "# 런타임 다시 시작 !!!!!!!!!!\n",
        "# 이걸 쫌 보고 하자 ㅋㅋ 맨날 까먹냐 ! (나에게 하는 말입니다...😅)"
      ]
    },
    {
      "cell_type": "code",
      "execution_count": 1,
      "metadata": {
        "id": "-y2PxrxN1qCD"
      },
      "outputs": [],
      "source": [
        "# 기본\n",
        "import pandas as pd\n",
        "import numpy as np\n",
        "import matplotlib.pyplot as plt\n",
        "import seaborn as sns\n",
        "\n",
        "import os\n",
        "\n",
        "# 경고 뜨지 않게..\n",
        "import warnings\n",
        "warnings.filterwarnings('ignore')\n",
        "\n",
        "# 그래프 설정\n",
        "# plt.rc('font' , family='NanumBarunGothic')\n",
        "plt.rcParams['font.family'] = 'NanumBarunGothic'\n",
        "# # plt.rcParams['font.family'] = 'AppleGothic'\n",
        "# plt.rcParams['font.size'] = 16\n",
        "# plt.rcParams['figure.figsize'] = 20, 10\n",
        "# plt.rcParams['axes.unicode_minus'] = False"
      ]
    },
    {
      "cell_type": "code",
      "execution_count": 2,
      "metadata": {
        "colab": {
          "base_uri": "https://localhost:8080/"
        },
        "id": "OEAHj3un2CCk",
        "outputId": "8d44ec86-a29a-4e5b-e257-a6b9cd9e84aa"
      },
      "outputs": [
        {
          "output_type": "stream",
          "name": "stdout",
          "text": [
            "Looking in indexes: https://pypi.org/simple, https://us-python.pkg.dev/colab-wheels/public/simple/\n",
            "Collecting konlpy\n",
            "  Downloading konlpy-0.6.0-py2.py3-none-any.whl (19.4 MB)\n",
            "\u001b[K     |████████████████████████████████| 19.4 MB 1.7 MB/s \n",
            "\u001b[?25hCollecting JPype1>=0.7.0\n",
            "  Downloading JPype1-1.4.1-cp37-cp37m-manylinux_2_12_x86_64.manylinux2010_x86_64.whl (465 kB)\n",
            "\u001b[K     |████████████████████████████████| 465 kB 43.9 MB/s \n",
            "\u001b[?25hRequirement already satisfied: numpy>=1.6 in /usr/local/lib/python3.7/dist-packages (from konlpy) (1.21.6)\n",
            "Requirement already satisfied: lxml>=4.1.0 in /usr/local/lib/python3.7/dist-packages (from konlpy) (4.9.1)\n",
            "Requirement already satisfied: packaging in /usr/local/lib/python3.7/dist-packages (from JPype1>=0.7.0->konlpy) (21.3)\n",
            "Requirement already satisfied: typing-extensions in /usr/local/lib/python3.7/dist-packages (from JPype1>=0.7.0->konlpy) (4.1.1)\n",
            "Requirement already satisfied: pyparsing!=3.0.5,>=2.0.2 in /usr/local/lib/python3.7/dist-packages (from packaging->JPype1>=0.7.0->konlpy) (3.0.9)\n",
            "Installing collected packages: JPype1, konlpy\n",
            "Successfully installed JPype1-1.4.1 konlpy-0.6.0\n",
            "Looking in indexes: https://pypi.org/simple, https://us-python.pkg.dev/colab-wheels/public/simple/\n",
            "Requirement already satisfied: wordcloud in /usr/local/lib/python3.7/dist-packages (1.8.2.2)\n",
            "Requirement already satisfied: matplotlib in /usr/local/lib/python3.7/dist-packages (from wordcloud) (3.2.2)\n",
            "Requirement already satisfied: numpy>=1.6.1 in /usr/local/lib/python3.7/dist-packages (from wordcloud) (1.21.6)\n",
            "Requirement already satisfied: pillow in /usr/local/lib/python3.7/dist-packages (from wordcloud) (7.1.2)\n",
            "Requirement already satisfied: kiwisolver>=1.0.1 in /usr/local/lib/python3.7/dist-packages (from matplotlib->wordcloud) (1.4.4)\n",
            "Requirement already satisfied: cycler>=0.10 in /usr/local/lib/python3.7/dist-packages (from matplotlib->wordcloud) (0.11.0)\n",
            "Requirement already satisfied: python-dateutil>=2.1 in /usr/local/lib/python3.7/dist-packages (from matplotlib->wordcloud) (2.8.2)\n",
            "Requirement already satisfied: pyparsing!=2.0.4,!=2.1.2,!=2.1.6,>=2.0.1 in /usr/local/lib/python3.7/dist-packages (from matplotlib->wordcloud) (3.0.9)\n",
            "Requirement already satisfied: typing-extensions in /usr/local/lib/python3.7/dist-packages (from kiwisolver>=1.0.1->matplotlib->wordcloud) (4.1.1)\n",
            "Requirement already satisfied: six>=1.5 in /usr/local/lib/python3.7/dist-packages (from python-dateutil>=2.1->matplotlib->wordcloud) (1.15.0)\n"
          ]
        }
      ],
      "source": [
        "# 한국어 관련 파이썬 패키지\n",
        "!pip install konlpy\n",
        "# 워드클라우드\n",
        "!pip install wordcloud"
      ]
    },
    {
      "cell_type": "code",
      "execution_count": 3,
      "metadata": {
        "colab": {
          "base_uri": "https://localhost:8080/"
        },
        "id": "3_bUNWV-2Enw",
        "outputId": "d5b4b935-b35e-437c-a226-2e0b249e1339"
      },
      "outputs": [
        {
          "output_type": "stream",
          "name": "stdout",
          "text": [
            "Looking in indexes: https://pypi.org/simple, https://us-python.pkg.dev/colab-wheels/public/simple/\n",
            "Collecting pytagcloud\n",
            "  Downloading pytagcloud-0.3.5.tar.gz (754 kB)\n",
            "\u001b[K     |████████████████████████████████| 754 kB 5.2 MB/s \n",
            "\u001b[?25hBuilding wheels for collected packages: pytagcloud\n",
            "  Building wheel for pytagcloud (setup.py) ... \u001b[?25l\u001b[?25hdone\n",
            "  Created wheel for pytagcloud: filename=pytagcloud-0.3.5-py3-none-any.whl size=759869 sha256=e24b313ca93eab082f0b6e9094d548534e604d33d27f7ca193f934e0c5928839\n",
            "  Stored in directory: /root/.cache/pip/wheels/fc/fd/aa/86956a295a7c9205bafd518ef4b6d489e51d2d476990c18238\n",
            "Successfully built pytagcloud\n",
            "Installing collected packages: pytagcloud\n",
            "Successfully installed pytagcloud-0.3.5\n",
            "Looking in indexes: https://pypi.org/simple, https://us-python.pkg.dev/colab-wheels/public/simple/\n",
            "Collecting pygame\n",
            "  Downloading pygame-2.1.2-cp37-cp37m-manylinux_2_17_x86_64.manylinux2014_x86_64.whl (21.8 MB)\n",
            "\u001b[K     |████████████████████████████████| 21.8 MB 1.6 MB/s \n",
            "\u001b[?25hInstalling collected packages: pygame\n",
            "Successfully installed pygame-2.1.2\n",
            "Looking in indexes: https://pypi.org/simple, https://us-python.pkg.dev/colab-wheels/public/simple/\n",
            "Collecting simplejson\n",
            "  Downloading simplejson-3.18.0-cp37-cp37m-manylinux_2_5_x86_64.manylinux1_x86_64.manylinux_2_12_x86_64.manylinux2010_x86_64.whl (130 kB)\n",
            "\u001b[K     |████████████████████████████████| 130 kB 5.2 MB/s \n",
            "\u001b[?25hInstalling collected packages: simplejson\n",
            "Successfully installed simplejson-3.18.0\n"
          ]
        }
      ],
      "source": [
        "!pip install pytagcloud\n",
        "!pip install pygame\n",
        "!pip install simplejson"
      ]
    },
    {
      "cell_type": "code",
      "execution_count": 4,
      "metadata": {
        "colab": {
          "base_uri": "https://localhost:8080/"
        },
        "id": "UKg_tdGb2Huu",
        "outputId": "022b00b0-a1eb-4639-c606-c0ddebadf143"
      },
      "outputs": [
        {
          "output_type": "stream",
          "name": "stdout",
          "text": [
            "pygame 2.1.2 (SDL 2.0.16, Python 3.7.15)\n",
            "Hello from the pygame community. https://www.pygame.org/contribute.html\n"
          ]
        }
      ],
      "source": [
        "# 한국어 형태소 분석\n",
        "from konlpy.tag import Okt, Hannanum, Kkma, Mecab, Komoran\n",
        "\n",
        "# 워드 클라우드\n",
        "from wordcloud import WordCloud\n",
        "import pytagcloud\n",
        "from collections import Counter\n",
        "from IPython.display import Image"
      ]
    },
    {
      "cell_type": "markdown",
      "metadata": {
        "id": "QD0-IGjZ5RVw"
      },
      "source": [
        "# 데이터"
      ]
    },
    {
      "cell_type": "code",
      "execution_count": 5,
      "metadata": {
        "colab": {
          "base_uri": "https://localhost:8080/",
          "height": 143
        },
        "id": "IC1qoNqn2Hhf",
        "outputId": "ad6585d5-03e2-4af3-937d-6ea524039730"
      },
      "outputs": [
        {
          "output_type": "execute_result",
          "data": {
            "text/plain": [
              "                                             reviews\n",
              "1                                 만족합니다 괜찮습니다 재구매합니다\n",
              "2                         뭔가 고기를 먹이려는데 없을때 볶아주면 딱이예요\n",
              "3  오버쿡 되지 않도록 조리하면 촉촉하니 맛있어요 월남쌈에도 넣어먹구 스리라차에도 찍어..."
            ],
            "text/html": [
              "\n",
              "  <div id=\"df-627244d2-2b61-4860-abd0-0d64d22e57ef\">\n",
              "    <div class=\"colab-df-container\">\n",
              "      <div>\n",
              "<style scoped>\n",
              "    .dataframe tbody tr th:only-of-type {\n",
              "        vertical-align: middle;\n",
              "    }\n",
              "\n",
              "    .dataframe tbody tr th {\n",
              "        vertical-align: top;\n",
              "    }\n",
              "\n",
              "    .dataframe thead th {\n",
              "        text-align: right;\n",
              "    }\n",
              "</style>\n",
              "<table border=\"1\" class=\"dataframe\">\n",
              "  <thead>\n",
              "    <tr style=\"text-align: right;\">\n",
              "      <th></th>\n",
              "      <th>reviews</th>\n",
              "    </tr>\n",
              "  </thead>\n",
              "  <tbody>\n",
              "    <tr>\n",
              "      <th>1</th>\n",
              "      <td>만족합니다 괜찮습니다 재구매합니다</td>\n",
              "    </tr>\n",
              "    <tr>\n",
              "      <th>2</th>\n",
              "      <td>뭔가 고기를 먹이려는데 없을때 볶아주면 딱이예요</td>\n",
              "    </tr>\n",
              "    <tr>\n",
              "      <th>3</th>\n",
              "      <td>오버쿡 되지 않도록 조리하면 촉촉하니 맛있어요 월남쌈에도 넣어먹구 스리라차에도 찍어...</td>\n",
              "    </tr>\n",
              "  </tbody>\n",
              "</table>\n",
              "</div>\n",
              "      <button class=\"colab-df-convert\" onclick=\"convertToInteractive('df-627244d2-2b61-4860-abd0-0d64d22e57ef')\"\n",
              "              title=\"Convert this dataframe to an interactive table.\"\n",
              "              style=\"display:none;\">\n",
              "        \n",
              "  <svg xmlns=\"http://www.w3.org/2000/svg\" height=\"24px\"viewBox=\"0 0 24 24\"\n",
              "       width=\"24px\">\n",
              "    <path d=\"M0 0h24v24H0V0z\" fill=\"none\"/>\n",
              "    <path d=\"M18.56 5.44l.94 2.06.94-2.06 2.06-.94-2.06-.94-.94-2.06-.94 2.06-2.06.94zm-11 1L8.5 8.5l.94-2.06 2.06-.94-2.06-.94L8.5 2.5l-.94 2.06-2.06.94zm10 10l.94 2.06.94-2.06 2.06-.94-2.06-.94-.94-2.06-.94 2.06-2.06.94z\"/><path d=\"M17.41 7.96l-1.37-1.37c-.4-.4-.92-.59-1.43-.59-.52 0-1.04.2-1.43.59L10.3 9.45l-7.72 7.72c-.78.78-.78 2.05 0 2.83L4 21.41c.39.39.9.59 1.41.59.51 0 1.02-.2 1.41-.59l7.78-7.78 2.81-2.81c.8-.78.8-2.07 0-2.86zM5.41 20L4 18.59l7.72-7.72 1.47 1.35L5.41 20z\"/>\n",
              "  </svg>\n",
              "      </button>\n",
              "      \n",
              "  <style>\n",
              "    .colab-df-container {\n",
              "      display:flex;\n",
              "      flex-wrap:wrap;\n",
              "      gap: 12px;\n",
              "    }\n",
              "\n",
              "    .colab-df-convert {\n",
              "      background-color: #E8F0FE;\n",
              "      border: none;\n",
              "      border-radius: 50%;\n",
              "      cursor: pointer;\n",
              "      display: none;\n",
              "      fill: #1967D2;\n",
              "      height: 32px;\n",
              "      padding: 0 0 0 0;\n",
              "      width: 32px;\n",
              "    }\n",
              "\n",
              "    .colab-df-convert:hover {\n",
              "      background-color: #E2EBFA;\n",
              "      box-shadow: 0px 1px 2px rgba(60, 64, 67, 0.3), 0px 1px 3px 1px rgba(60, 64, 67, 0.15);\n",
              "      fill: #174EA6;\n",
              "    }\n",
              "\n",
              "    [theme=dark] .colab-df-convert {\n",
              "      background-color: #3B4455;\n",
              "      fill: #D2E3FC;\n",
              "    }\n",
              "\n",
              "    [theme=dark] .colab-df-convert:hover {\n",
              "      background-color: #434B5C;\n",
              "      box-shadow: 0px 1px 3px 1px rgba(0, 0, 0, 0.15);\n",
              "      filter: drop-shadow(0px 1px 2px rgba(0, 0, 0, 0.3));\n",
              "      fill: #FFFFFF;\n",
              "    }\n",
              "  </style>\n",
              "\n",
              "      <script>\n",
              "        const buttonEl =\n",
              "          document.querySelector('#df-627244d2-2b61-4860-abd0-0d64d22e57ef button.colab-df-convert');\n",
              "        buttonEl.style.display =\n",
              "          google.colab.kernel.accessAllowed ? 'block' : 'none';\n",
              "\n",
              "        async function convertToInteractive(key) {\n",
              "          const element = document.querySelector('#df-627244d2-2b61-4860-abd0-0d64d22e57ef');\n",
              "          const dataTable =\n",
              "            await google.colab.kernel.invokeFunction('convertToInteractive',\n",
              "                                                     [key], {});\n",
              "          if (!dataTable) return;\n",
              "\n",
              "          const docLinkHtml = 'Like what you see? Visit the ' +\n",
              "            '<a target=\"_blank\" href=https://colab.research.google.com/notebooks/data_table.ipynb>data table notebook</a>'\n",
              "            + ' to learn more about interactive tables.';\n",
              "          element.innerHTML = '';\n",
              "          dataTable['output_type'] = 'display_data';\n",
              "          await google.colab.output.renderOutput(dataTable, element);\n",
              "          const docLink = document.createElement('div');\n",
              "          docLink.innerHTML = docLinkHtml;\n",
              "          element.appendChild(docLink);\n",
              "        }\n",
              "      </script>\n",
              "    </div>\n",
              "  </div>\n",
              "  "
            ]
          },
          "metadata": {},
          "execution_count": 5
        }
      ],
      "source": [
        "# 리뷰데이터\n",
        "# a = pd.read_csv('데이터 경로')\n",
        "a.drop(['label'], axis = 1, inplace=True)\n",
        "\n",
        "# 인덱스 1번부터 정리 (내가 보기 쉽게 정리)\n",
        "a.index = a.index+1\n",
        "a.head(3)"
      ]
    },
    {
      "cell_type": "code",
      "execution_count": 6,
      "metadata": {
        "colab": {
          "base_uri": "https://localhost:8080/",
          "height": 206
        },
        "id": "1cJhmGp0EvWr",
        "outputId": "9e4f8112-f2ec-4505-a342-553d09a86c16"
      },
      "outputs": [
        {
          "output_type": "execute_result",
          "data": {
            "text/plain": [
              "                                             reviews\n",
              "1                                 만족합니다 괜찮습니다 재구매합니다\n",
              "2                         뭔가 고기를 먹이려는데 없을때 볶아주면 딱이예요\n",
              "3  오버쿡 되지 않도록 조리하면 촉촉하니 맛있어요 월남쌈에도 넣어먹구 스리라차에도 찍어...\n",
              "4                                      믿고먹음 좋아요 부드럽고\n",
              "5                                        세일해서 사뫘어요 ㅎ"
            ],
            "text/html": [
              "\n",
              "  <div id=\"df-e01735a7-6705-4a7d-9bc1-710dda7339fe\">\n",
              "    <div class=\"colab-df-container\">\n",
              "      <div>\n",
              "<style scoped>\n",
              "    .dataframe tbody tr th:only-of-type {\n",
              "        vertical-align: middle;\n",
              "    }\n",
              "\n",
              "    .dataframe tbody tr th {\n",
              "        vertical-align: top;\n",
              "    }\n",
              "\n",
              "    .dataframe thead th {\n",
              "        text-align: right;\n",
              "    }\n",
              "</style>\n",
              "<table border=\"1\" class=\"dataframe\">\n",
              "  <thead>\n",
              "    <tr style=\"text-align: right;\">\n",
              "      <th></th>\n",
              "      <th>reviews</th>\n",
              "    </tr>\n",
              "  </thead>\n",
              "  <tbody>\n",
              "    <tr>\n",
              "      <th>1</th>\n",
              "      <td>만족합니다 괜찮습니다 재구매합니다</td>\n",
              "    </tr>\n",
              "    <tr>\n",
              "      <th>2</th>\n",
              "      <td>뭔가 고기를 먹이려는데 없을때 볶아주면 딱이예요</td>\n",
              "    </tr>\n",
              "    <tr>\n",
              "      <th>3</th>\n",
              "      <td>오버쿡 되지 않도록 조리하면 촉촉하니 맛있어요 월남쌈에도 넣어먹구 스리라차에도 찍어...</td>\n",
              "    </tr>\n",
              "    <tr>\n",
              "      <th>4</th>\n",
              "      <td>믿고먹음 좋아요 부드럽고</td>\n",
              "    </tr>\n",
              "    <tr>\n",
              "      <th>5</th>\n",
              "      <td>세일해서 사뫘어요 ㅎ</td>\n",
              "    </tr>\n",
              "  </tbody>\n",
              "</table>\n",
              "</div>\n",
              "      <button class=\"colab-df-convert\" onclick=\"convertToInteractive('df-e01735a7-6705-4a7d-9bc1-710dda7339fe')\"\n",
              "              title=\"Convert this dataframe to an interactive table.\"\n",
              "              style=\"display:none;\">\n",
              "        \n",
              "  <svg xmlns=\"http://www.w3.org/2000/svg\" height=\"24px\"viewBox=\"0 0 24 24\"\n",
              "       width=\"24px\">\n",
              "    <path d=\"M0 0h24v24H0V0z\" fill=\"none\"/>\n",
              "    <path d=\"M18.56 5.44l.94 2.06.94-2.06 2.06-.94-2.06-.94-.94-2.06-.94 2.06-2.06.94zm-11 1L8.5 8.5l.94-2.06 2.06-.94-2.06-.94L8.5 2.5l-.94 2.06-2.06.94zm10 10l.94 2.06.94-2.06 2.06-.94-2.06-.94-.94-2.06-.94 2.06-2.06.94z\"/><path d=\"M17.41 7.96l-1.37-1.37c-.4-.4-.92-.59-1.43-.59-.52 0-1.04.2-1.43.59L10.3 9.45l-7.72 7.72c-.78.78-.78 2.05 0 2.83L4 21.41c.39.39.9.59 1.41.59.51 0 1.02-.2 1.41-.59l7.78-7.78 2.81-2.81c.8-.78.8-2.07 0-2.86zM5.41 20L4 18.59l7.72-7.72 1.47 1.35L5.41 20z\"/>\n",
              "  </svg>\n",
              "      </button>\n",
              "      \n",
              "  <style>\n",
              "    .colab-df-container {\n",
              "      display:flex;\n",
              "      flex-wrap:wrap;\n",
              "      gap: 12px;\n",
              "    }\n",
              "\n",
              "    .colab-df-convert {\n",
              "      background-color: #E8F0FE;\n",
              "      border: none;\n",
              "      border-radius: 50%;\n",
              "      cursor: pointer;\n",
              "      display: none;\n",
              "      fill: #1967D2;\n",
              "      height: 32px;\n",
              "      padding: 0 0 0 0;\n",
              "      width: 32px;\n",
              "    }\n",
              "\n",
              "    .colab-df-convert:hover {\n",
              "      background-color: #E2EBFA;\n",
              "      box-shadow: 0px 1px 2px rgba(60, 64, 67, 0.3), 0px 1px 3px 1px rgba(60, 64, 67, 0.15);\n",
              "      fill: #174EA6;\n",
              "    }\n",
              "\n",
              "    [theme=dark] .colab-df-convert {\n",
              "      background-color: #3B4455;\n",
              "      fill: #D2E3FC;\n",
              "    }\n",
              "\n",
              "    [theme=dark] .colab-df-convert:hover {\n",
              "      background-color: #434B5C;\n",
              "      box-shadow: 0px 1px 3px 1px rgba(0, 0, 0, 0.15);\n",
              "      filter: drop-shadow(0px 1px 2px rgba(0, 0, 0, 0.3));\n",
              "      fill: #FFFFFF;\n",
              "    }\n",
              "  </style>\n",
              "\n",
              "      <script>\n",
              "        const buttonEl =\n",
              "          document.querySelector('#df-e01735a7-6705-4a7d-9bc1-710dda7339fe button.colab-df-convert');\n",
              "        buttonEl.style.display =\n",
              "          google.colab.kernel.accessAllowed ? 'block' : 'none';\n",
              "\n",
              "        async function convertToInteractive(key) {\n",
              "          const element = document.querySelector('#df-e01735a7-6705-4a7d-9bc1-710dda7339fe');\n",
              "          const dataTable =\n",
              "            await google.colab.kernel.invokeFunction('convertToInteractive',\n",
              "                                                     [key], {});\n",
              "          if (!dataTable) return;\n",
              "\n",
              "          const docLinkHtml = 'Like what you see? Visit the ' +\n",
              "            '<a target=\"_blank\" href=https://colab.research.google.com/notebooks/data_table.ipynb>data table notebook</a>'\n",
              "            + ' to learn more about interactive tables.';\n",
              "          element.innerHTML = '';\n",
              "          dataTable['output_type'] = 'display_data';\n",
              "          await google.colab.output.renderOutput(dataTable, element);\n",
              "          const docLink = document.createElement('div');\n",
              "          docLink.innerHTML = docLinkHtml;\n",
              "          element.appendChild(docLink);\n",
              "        }\n",
              "      </script>\n",
              "    </div>\n",
              "  </div>\n",
              "  "
            ]
          },
          "metadata": {},
          "execution_count": 6
        }
      ],
      "source": [
        "# 전체 리뷰중 삼천개만 선택 (너무 많음..)\n",
        "a1 = a.iloc[0:3000]\n",
        "a1.head()"
      ]
    },
    {
      "cell_type": "markdown",
      "metadata": {
        "id": "-IOfTfO85LET"
      },
      "source": [
        "## 한글 정제"
      ]
    },
    {
      "cell_type": "code",
      "source": [
        "# 결측제거 → 중복제거 → 인덱스재설정(리셋)\n",
        "def getDataClean( df ):\n",
        "    df = df.dropna()\n",
        "    df = df.drop_duplicates()\n",
        "    df = df.reset_index(drop=True)\n",
        "    return df\n",
        "\n",
        "getDataClean(a1)\n",
        "a1 = getDataClean(a1)\n",
        "a1.info()"
      ],
      "metadata": {
        "colab": {
          "base_uri": "https://localhost:8080/"
        },
        "id": "6xHyVYJRtty3",
        "outputId": "62bd207c-41a4-453a-820b-cfc2bd27566e"
      },
      "execution_count": 7,
      "outputs": [
        {
          "output_type": "stream",
          "name": "stdout",
          "text": [
            "<class 'pandas.core.frame.DataFrame'>\n",
            "RangeIndex: 2973 entries, 0 to 2972\n",
            "Data columns (total 1 columns):\n",
            " #   Column   Non-Null Count  Dtype \n",
            "---  ------   --------------  ----- \n",
            " 0   reviews  2973 non-null   object\n",
            "dtypes: object(1)\n",
            "memory usage: 23.4+ KB\n"
          ]
        }
      ]
    },
    {
      "cell_type": "code",
      "source": [
        "import re\n",
        "\n",
        "def text_cleaning(text) :\n",
        "    hangul = re.compile('[^ ㄱ-ㅣ가-힣]+')    \n",
        "    result = hangul.sub('', text)\n",
        "    return result\n",
        "\n",
        "a1['reviews'] = a1['reviews'].apply(lambda x : text_cleaning(x))\n",
        "a1.head()"
      ],
      "metadata": {
        "colab": {
          "base_uri": "https://localhost:8080/",
          "height": 206
        },
        "id": "qURzE1Vr41mh",
        "outputId": "95f7cfe6-2efa-4fbb-d9a6-c2b0f9eb7510"
      },
      "execution_count": 8,
      "outputs": [
        {
          "output_type": "execute_result",
          "data": {
            "text/plain": [
              "                                             reviews\n",
              "0                                 만족합니다 괜찮습니다 재구매합니다\n",
              "1                         뭔가 고기를 먹이려는데 없을때 볶아주면 딱이예요\n",
              "2  오버쿡 되지 않도록 조리하면 촉촉하니 맛있어요 월남쌈에도 넣어먹구 스리라차에도 찍어...\n",
              "3                                      믿고먹음 좋아요 부드럽고\n",
              "4                                        세일해서 사뫘어요 ㅎ"
            ],
            "text/html": [
              "\n",
              "  <div id=\"df-255a71f7-1abd-4a40-8d86-70524fa2b33b\">\n",
              "    <div class=\"colab-df-container\">\n",
              "      <div>\n",
              "<style scoped>\n",
              "    .dataframe tbody tr th:only-of-type {\n",
              "        vertical-align: middle;\n",
              "    }\n",
              "\n",
              "    .dataframe tbody tr th {\n",
              "        vertical-align: top;\n",
              "    }\n",
              "\n",
              "    .dataframe thead th {\n",
              "        text-align: right;\n",
              "    }\n",
              "</style>\n",
              "<table border=\"1\" class=\"dataframe\">\n",
              "  <thead>\n",
              "    <tr style=\"text-align: right;\">\n",
              "      <th></th>\n",
              "      <th>reviews</th>\n",
              "    </tr>\n",
              "  </thead>\n",
              "  <tbody>\n",
              "    <tr>\n",
              "      <th>0</th>\n",
              "      <td>만족합니다 괜찮습니다 재구매합니다</td>\n",
              "    </tr>\n",
              "    <tr>\n",
              "      <th>1</th>\n",
              "      <td>뭔가 고기를 먹이려는데 없을때 볶아주면 딱이예요</td>\n",
              "    </tr>\n",
              "    <tr>\n",
              "      <th>2</th>\n",
              "      <td>오버쿡 되지 않도록 조리하면 촉촉하니 맛있어요 월남쌈에도 넣어먹구 스리라차에도 찍어...</td>\n",
              "    </tr>\n",
              "    <tr>\n",
              "      <th>3</th>\n",
              "      <td>믿고먹음 좋아요 부드럽고</td>\n",
              "    </tr>\n",
              "    <tr>\n",
              "      <th>4</th>\n",
              "      <td>세일해서 사뫘어요 ㅎ</td>\n",
              "    </tr>\n",
              "  </tbody>\n",
              "</table>\n",
              "</div>\n",
              "      <button class=\"colab-df-convert\" onclick=\"convertToInteractive('df-255a71f7-1abd-4a40-8d86-70524fa2b33b')\"\n",
              "              title=\"Convert this dataframe to an interactive table.\"\n",
              "              style=\"display:none;\">\n",
              "        \n",
              "  <svg xmlns=\"http://www.w3.org/2000/svg\" height=\"24px\"viewBox=\"0 0 24 24\"\n",
              "       width=\"24px\">\n",
              "    <path d=\"M0 0h24v24H0V0z\" fill=\"none\"/>\n",
              "    <path d=\"M18.56 5.44l.94 2.06.94-2.06 2.06-.94-2.06-.94-.94-2.06-.94 2.06-2.06.94zm-11 1L8.5 8.5l.94-2.06 2.06-.94-2.06-.94L8.5 2.5l-.94 2.06-2.06.94zm10 10l.94 2.06.94-2.06 2.06-.94-2.06-.94-.94-2.06-.94 2.06-2.06.94z\"/><path d=\"M17.41 7.96l-1.37-1.37c-.4-.4-.92-.59-1.43-.59-.52 0-1.04.2-1.43.59L10.3 9.45l-7.72 7.72c-.78.78-.78 2.05 0 2.83L4 21.41c.39.39.9.59 1.41.59.51 0 1.02-.2 1.41-.59l7.78-7.78 2.81-2.81c.8-.78.8-2.07 0-2.86zM5.41 20L4 18.59l7.72-7.72 1.47 1.35L5.41 20z\"/>\n",
              "  </svg>\n",
              "      </button>\n",
              "      \n",
              "  <style>\n",
              "    .colab-df-container {\n",
              "      display:flex;\n",
              "      flex-wrap:wrap;\n",
              "      gap: 12px;\n",
              "    }\n",
              "\n",
              "    .colab-df-convert {\n",
              "      background-color: #E8F0FE;\n",
              "      border: none;\n",
              "      border-radius: 50%;\n",
              "      cursor: pointer;\n",
              "      display: none;\n",
              "      fill: #1967D2;\n",
              "      height: 32px;\n",
              "      padding: 0 0 0 0;\n",
              "      width: 32px;\n",
              "    }\n",
              "\n",
              "    .colab-df-convert:hover {\n",
              "      background-color: #E2EBFA;\n",
              "      box-shadow: 0px 1px 2px rgba(60, 64, 67, 0.3), 0px 1px 3px 1px rgba(60, 64, 67, 0.15);\n",
              "      fill: #174EA6;\n",
              "    }\n",
              "\n",
              "    [theme=dark] .colab-df-convert {\n",
              "      background-color: #3B4455;\n",
              "      fill: #D2E3FC;\n",
              "    }\n",
              "\n",
              "    [theme=dark] .colab-df-convert:hover {\n",
              "      background-color: #434B5C;\n",
              "      box-shadow: 0px 1px 3px 1px rgba(0, 0, 0, 0.15);\n",
              "      filter: drop-shadow(0px 1px 2px rgba(0, 0, 0, 0.3));\n",
              "      fill: #FFFFFF;\n",
              "    }\n",
              "  </style>\n",
              "\n",
              "      <script>\n",
              "        const buttonEl =\n",
              "          document.querySelector('#df-255a71f7-1abd-4a40-8d86-70524fa2b33b button.colab-df-convert');\n",
              "        buttonEl.style.display =\n",
              "          google.colab.kernel.accessAllowed ? 'block' : 'none';\n",
              "\n",
              "        async function convertToInteractive(key) {\n",
              "          const element = document.querySelector('#df-255a71f7-1abd-4a40-8d86-70524fa2b33b');\n",
              "          const dataTable =\n",
              "            await google.colab.kernel.invokeFunction('convertToInteractive',\n",
              "                                                     [key], {});\n",
              "          if (!dataTable) return;\n",
              "\n",
              "          const docLinkHtml = 'Like what you see? Visit the ' +\n",
              "            '<a target=\"_blank\" href=https://colab.research.google.com/notebooks/data_table.ipynb>data table notebook</a>'\n",
              "            + ' to learn more about interactive tables.';\n",
              "          element.innerHTML = '';\n",
              "          dataTable['output_type'] = 'display_data';\n",
              "          await google.colab.output.renderOutput(dataTable, element);\n",
              "          const docLink = document.createElement('div');\n",
              "          docLink.innerHTML = docLinkHtml;\n",
              "          element.appendChild(docLink);\n",
              "        }\n",
              "      </script>\n",
              "    </div>\n",
              "  </div>\n",
              "  "
            ]
          },
          "metadata": {},
          "execution_count": 8
        }
      ]
    },
    {
      "cell_type": "markdown",
      "metadata": {
        "id": "PvdznPrAf0Th"
      },
      "source": [
        "# Okt()\n",
        "- 트위터에서 개발한 트위터 한국어 처리기에서 파생된 오픈소스(아파치 2.0라이센스)한국어 처리기"
      ]
    },
    {
      "cell_type": "code",
      "execution_count": 9,
      "metadata": {
        "id": "nLqA_dKC5oSt"
      },
      "outputs": [],
      "source": [
        "# 트위터에서 개발한 트위터 한국어 처리기에서 파생된 오픈소스(아파치 2.0라이센스)한국어 처리기\n",
        "okt = Okt()"
      ]
    },
    {
      "cell_type": "markdown",
      "source": [
        "## 테스트"
      ],
      "metadata": {
        "id": "MXQXqeKio5GY"
      }
    },
    {
      "cell_type": "code",
      "execution_count": 10,
      "metadata": {
        "colab": {
          "base_uri": "https://localhost:8080/"
        },
        "id": "5TuYQHV-2EQU",
        "outputId": "97ec6e57-85a7-4715-f8ab-c1de67a37810"
      },
      "outputs": [
        {
          "output_type": "execute_result",
          "data": {
            "text/plain": [
              "['헐', '내', '가', '이', '걸', '성공', '시켜', '???']"
            ]
          },
          "metadata": {},
          "execution_count": 10
        }
      ],
      "source": [
        "# 형태소\n",
        "okt.morphs('헐 내가 이걸 성공시켜???')"
      ]
    },
    {
      "cell_type": "code",
      "execution_count": 11,
      "metadata": {
        "colab": {
          "base_uri": "https://localhost:8080/"
        },
        "id": "bT0JVTal1_Ap",
        "outputId": "d0debc5d-dc17-418b-fcca-a4a8fe8aabb8"
      },
      "outputs": [
        {
          "output_type": "execute_result",
          "data": {
            "text/plain": [
              "[('너무', 'Adverb'), ('맛있어요', 'Adjective')]"
            ]
          },
          "metadata": {},
          "execution_count": 11
        }
      ],
      "source": [
        "# 품사별\n",
        "okt.pos('너무 맛있어요')"
      ]
    },
    {
      "cell_type": "code",
      "execution_count": 12,
      "metadata": {
        "colab": {
          "base_uri": "https://localhost:8080/"
        },
        "id": "EDCMGlOwr8Vt",
        "outputId": "785854cb-7784-457c-d59d-5bae1009e5f7"
      },
      "outputs": [
        {
          "output_type": "execute_result",
          "data": {
            "text/plain": [
              "['이걸', '이걸 성공', '성공']"
            ]
          },
          "metadata": {},
          "execution_count": 12
        }
      ],
      "source": [
        "# 어구\n",
        "okt.phrases('헐 내가 이걸 성공시켜???')"
      ]
    },
    {
      "cell_type": "code",
      "source": [
        "# 품사 확인\n",
        "okt.tagset"
      ],
      "metadata": {
        "colab": {
          "base_uri": "https://localhost:8080/"
        },
        "id": "VAIhdOFmpHmo",
        "outputId": "dd9b78ff-4e96-49e2-ca97-cba88992a130"
      },
      "execution_count": 13,
      "outputs": [
        {
          "output_type": "execute_result",
          "data": {
            "text/plain": [
              "{'Adjective': '형용사',\n",
              " 'Adverb': '부사',\n",
              " 'Alpha': '알파벳',\n",
              " 'Conjunction': '접속사',\n",
              " 'Determiner': '관형사',\n",
              " 'Eomi': '어미',\n",
              " 'Exclamation': '감탄사',\n",
              " 'Foreign': '외국어, 한자 및 기타기호',\n",
              " 'Hashtag': '트위터 해쉬태그',\n",
              " 'Josa': '조사',\n",
              " 'KoreanParticle': '(ex: ㅋㅋ)',\n",
              " 'Noun': '명사',\n",
              " 'Number': '숫자',\n",
              " 'PreEomi': '선어말어미',\n",
              " 'Punctuation': '구두점',\n",
              " 'ScreenName': '트위터 아이디',\n",
              " 'Suffix': '접미사',\n",
              " 'Unknown': '미등록어',\n",
              " 'Verb': '동사'}"
            ]
          },
          "metadata": {},
          "execution_count": 13
        }
      ]
    },
    {
      "cell_type": "markdown",
      "metadata": {
        "id": "0zXx_uAjnmsZ"
      },
      "source": [
        "## 내가 원하는 품사만 \n",
        "\n",
        "- 품사별로 분리를 하고 \n",
        "- 원하는 품사만 따로 뽑아내자"
      ]
    },
    {
      "cell_type": "markdown",
      "metadata": {
        "id": "rLH9_AHTFQz5"
      },
      "source": [
        "\n",
        "\n",
        "---\n",
        "\n"
      ]
    },
    {
      "cell_type": "code",
      "execution_count": 14,
      "metadata": {
        "colab": {
          "base_uri": "https://localhost:8080/"
        },
        "id": "fYZYwBlo6y-s",
        "outputId": "7c690c99-d308-4cc2-b758-86adbf3a1c39"
      },
      "outputs": [
        {
          "output_type": "execute_result",
          "data": {
            "text/plain": [
              "[('믿고', 'Verb'), ('먹음', 'Noun'), ('좋아요', 'Adjective'), ('부드럽고', 'Adjective')]"
            ]
          },
          "metadata": {},
          "execution_count": 14
        }
      ],
      "source": [
        "# 테스트로 하나의 리뷰를 가지고 품사 확인\n",
        "\n",
        "okt.pos(a1['reviews'][3])"
      ]
    },
    {
      "cell_type": "code",
      "execution_count": 15,
      "metadata": {
        "colab": {
          "base_uri": "https://localhost:8080/"
        },
        "id": "khZe0gYc72Q0",
        "outputId": "df0804f6-41b0-401b-9d40-f65f84d7d0f6"
      },
      "outputs": [
        {
          "output_type": "execute_result",
          "data": {
            "text/plain": [
              "pandas.core.series.Series"
            ]
          },
          "metadata": {},
          "execution_count": 15
        }
      ],
      "source": [
        "# 리뷰\n",
        "sent_df = a1['reviews']\n",
        "type(sent_df)"
      ]
    },
    {
      "cell_type": "markdown",
      "metadata": {
        "id": "PHdawSw-f3QE"
      },
      "source": [
        "\n",
        "\n",
        "---\n",
        "\n"
      ]
    },
    {
      "cell_type": "markdown",
      "metadata": {
        "id": "3Xxk0lxVS_av"
      },
      "source": [
        "# 키워드 + 워드클라우드"
      ]
    },
    {
      "cell_type": "markdown",
      "metadata": {
        "id": "a5Urq4Fmnmsc"
      },
      "source": [
        "## 품사별로 뽑아서 담고"
      ]
    },
    {
      "cell_type": "code",
      "execution_count": 16,
      "metadata": {
        "colab": {
          "base_uri": "https://localhost:8080/"
        },
        "id": "InPReKLM2D_D",
        "outputId": "41bdd334-c7ea-49a6-dc6d-04630c03705e"
      },
      "outputs": [
        {
          "output_type": "stream",
          "name": "stderr",
          "text": [
            "\r100%|██████████| 2973/2973 [00:34<00:00, 87.14it/s] "
          ]
        },
        {
          "output_type": "stream",
          "name": "stdout",
          "text": [
            "수집중2973\n",
            "수집된 sent_tag 개수 : 2973\n",
            "수집완료\n"
          ]
        },
        {
          "output_type": "stream",
          "name": "stderr",
          "text": [
            "\n"
          ]
        }
      ],
      "source": [
        "from IPython.display import clear_output\n",
        "from tqdm import tqdm\n",
        "\n",
        "# 품사별 담을 리스트\n",
        "sent_tag = []\n",
        "# 진행상황 보고싶어서\n",
        "cnt = 0\n",
        "\n",
        "for sentence in tqdm(sent_df):\n",
        "  cnt +=1\n",
        "  \n",
        "  morph = okt.pos(sentence)\n",
        "  sent_tag.append(morph)\n",
        "\n",
        "  clear_output(wait=True)\n",
        "  print(f'수집중{cnt}')\n",
        "\n",
        "  # print(morph)\n",
        "  # print('-'*30)\n",
        "\n",
        "# clear_output(wait=True)\n",
        "print(f'수집된 sent_tag 개수 : {len(sent_tag)}')\n",
        "print('수집완료')"
      ]
    },
    {
      "cell_type": "markdown",
      "metadata": {
        "id": "BoMGTxOenmse"
      },
      "source": [
        "## 키워드 \n",
        "- 내가 원하는 동사, 형용사, 부사만 뽑아내기"
      ]
    },
    {
      "cell_type": "code",
      "execution_count": 17,
      "metadata": {
        "colab": {
          "base_uri": "https://localhost:8080/"
        },
        "id": "0gkJY4H3644D",
        "outputId": "508df81e-734d-4b42-8051-571dcb3a48d7"
      },
      "outputs": [
        {
          "output_type": "stream",
          "name": "stdout",
          "text": [
            "수집된 단어 개수 : 9960\n",
            "수집완료\n"
          ]
        }
      ],
      "source": [
        "cnt2 = 0\n",
        "# 동사, 형용사, 부사인 품사만 리스트에 담기\n",
        "word_vaa = []\n",
        "\n",
        "for sentence1 in tqdm(sent_tag):\n",
        "  cnt2 += 1\n",
        "  for word, tag in tqdm(sentence1):\n",
        "    if tag in ['Verb','Adjective', 'Adverb']:\n",
        "      word_vaa.append(word)\n",
        "\n",
        "      clear_output(wait=True)\n",
        "      print(f'수집중{cnt2}')\n",
        "\n",
        "clear_output(wait=True)\n",
        "print(f'수집된 단어 개수 : {len(word_vaa)}')\n",
        "print('수집완료')      "
      ]
    },
    {
      "cell_type": "code",
      "execution_count": 18,
      "metadata": {
        "colab": {
          "base_uri": "https://localhost:8080/"
        },
        "id": "iohHsFPT2-8d",
        "outputId": "09ac3c16-c0a8-4e3f-bde1-d96c9fa71116"
      },
      "outputs": [
        {
          "output_type": "execute_result",
          "data": {
            "text/plain": [
              "[('맛있어요', 620),\n",
              " ('좋아요', 354),\n",
              " ('너무', 234),\n",
              " ('재구매', 168),\n",
              " ('할', 133),\n",
              " ('먹어', 124),\n",
              " ('맛있어서', 123),\n",
              " ('다', 114),\n",
              " ('했어요', 112),\n",
              " ('잘', 112)]"
            ]
          },
          "metadata": {},
          "execution_count": 18
        }
      ],
      "source": [
        "# 단어에 대한 빈도수 계산\n",
        "sent_count2 = Counter(word_vaa)\n",
        "\n",
        "# 빈도수가 가장 많은 단어 10개 선정\n",
        "rank_sent_tag2 = sent_count2.most_common(10)\n",
        "rank_sent_tag2"
      ]
    },
    {
      "cell_type": "code",
      "source": [
        "# 단어 : 숫자로 나오는 부분을\n",
        "# [ #단어 ]형태로 바꿔주기 / 해시태그처럼\n",
        "\n",
        "dict_sent = dict(Counter(word_vaa).most_common(10))\n",
        "\n",
        "# dict 키와 값으로 되어있은깨\n",
        "for j in dict_sent.keys():\n",
        "    print('#' + j)\n",
        "\n",
        "# 이렇게 하면 나오나?\n"
      ],
      "metadata": {
        "id": "O6HFyE1E0H3Y",
        "colab": {
          "base_uri": "https://localhost:8080/"
        },
        "outputId": "8a4770cf-fa3f-40f0-9ea3-35122daeb11f"
      },
      "execution_count": 19,
      "outputs": [
        {
          "output_type": "stream",
          "name": "stdout",
          "text": [
            "#맛있어요\n",
            "#좋아요\n",
            "#너무\n",
            "#재구매\n",
            "#할\n",
            "#먹어\n",
            "#맛있어서\n",
            "#다\n",
            "#했어요\n",
            "#잘\n"
          ]
        }
      ]
    },
    {
      "cell_type": "markdown",
      "source": [
        "## 워드클라우드\n",
        "- 명사로만"
      ],
      "metadata": {
        "id": "F9KRn9526ybU"
      }
    },
    {
      "cell_type": "code",
      "source": [
        "cnt2 = 0\n",
        "# 동사, 형용사, 부사인 품사만 리스트에 담기\n",
        "noun_adj = []\n",
        "\n",
        "for sentence1 in tqdm(sent_tag):\n",
        "  cnt2 += 1\n",
        "  for word, tag in tqdm(sentence1):\n",
        "    if tag in ['Noun']:\n",
        "      noun_adj.append(word)\n",
        "\n",
        "      clear_output(wait=True)\n",
        "      print(f'수집중{cnt2}')\n",
        "\n",
        "clear_output(wait=True)\n",
        "print(f'수집된 단어 개수 : {len(noun_adj)}')\n",
        "print('수집완료')  "
      ],
      "metadata": {
        "colab": {
          "base_uri": "https://localhost:8080/"
        },
        "id": "Hv9L6GeH6-sy",
        "outputId": "c5712d41-dcff-4e25-a4d4-fa1d0e2609cf"
      },
      "execution_count": 20,
      "outputs": [
        {
          "output_type": "stream",
          "name": "stdout",
          "text": [
            "수집된 단어 개수 : 12605\n",
            "수집완료\n"
          ]
        }
      ]
    },
    {
      "cell_type": "code",
      "execution_count": 21,
      "metadata": {
        "colab": {
          "base_uri": "https://localhost:8080/"
        },
        "id": "Sey63T1C2-5w",
        "outputId": "47bf9b5a-9b3d-4211-ca9f-53e0afaf476b"
      },
      "outputs": [
        {
          "output_type": "execute_result",
          "data": {
            "text/plain": [
              "[('맛', 682),\n",
              " ('닭', 561),\n",
              " ('가슴', 560),\n",
              " ('살', 459),\n",
              " ('구매', 315),\n",
              " ('때', 180),\n",
              " ('갈릭', 180),\n",
              " ('먹기', 153),\n",
              " ('다이어트', 152),\n",
              " ('샐러드', 150),\n",
              " ('진짜', 126),\n",
              " ('청양고추', 119),\n",
              " ('요', 114),\n",
              " ('제일', 110),\n",
              " ('큐브', 109),\n",
              " ('에프', 104),\n",
              " ('치즈', 102),\n",
              " ('주문', 99),\n",
              " ('에어', 99),\n",
              " ('냉동', 96),\n",
              " ('것', 92),\n",
              " ('더', 86),\n",
              " ('후기', 85),\n",
              " ('자주', 84),\n",
              " ('살이', 83),\n",
              " ('용', 80),\n",
              " ('조리', 76),\n",
              " ('최고', 76),\n",
              " ('거', 74),\n",
              " ('좀', 73),\n",
              " ('중', 71),\n",
              " ('제품', 68),\n",
              " ('항상', 66),\n",
              " ('구입', 65),\n",
              " ('또', 63),\n",
              " ('해', 60),\n",
              " ('일', 59),\n",
              " ('그냥', 59),\n",
              " ('늘', 59),\n",
              " ('프라이어', 59),\n",
              " ('아이', 53),\n",
              " ('카레', 53),\n",
              " ('추천', 52),\n",
              " ('쟁', 52),\n",
              " ('퍽퍽', 51),\n",
              " ('매콤', 49),\n",
              " ('정말', 48),\n",
              " ('요리', 46),\n",
              " ('단백질', 46),\n",
              " ('리지', 46)]"
            ]
          },
          "metadata": {},
          "execution_count": 21
        }
      ],
      "source": [
        "# 단어에 대한 빈도수 계산\n",
        "sent_count3 = Counter(noun_adj)\n",
        "\n",
        "# 빈도수가 가장 많은 단어 50개 선정\n",
        "rank_sent_tag3 = sent_count3.most_common(50)\n",
        "\n",
        "# 워드클라우드 단어 사전 만든다.\n",
        "sent_tag_list3 = pytagcloud.make_tags(rank_sent_tag3)\n",
        "rank_sent_tag3"
      ]
    },
    {
      "cell_type": "code",
      "execution_count": 22,
      "metadata": {
        "colab": {
          "base_uri": "https://localhost:8080/",
          "height": 575
        },
        "id": "wt8hSfKQ2-3N",
        "outputId": "7fd30c74-6e77-45c6-faf4-555e12939ca3"
      },
      "outputs": [
        {
          "output_type": "display_data",
          "data": {
            "text/plain": [
              "<Figure size 720x720 with 1 Axes>"
            ],
            "image/png": "[encoded data removed]"
          },
          "metadata": {
            "needs_background": "light"
          }
        }
      ],
      "source": [
        "# 코랩 한글 폰트 경로 설정\n",
        "font = '/usr/share/fonts/truetype/nanum/NanumBarunGothic.ttf'\n",
        "\n",
        "wc = WordCloud(font_path=font,\\\n",
        "\t\tbackground_color=\"white\", \\\n",
        "\t\twidth=500, \\\n",
        "\t\theight=500, \\\n",
        "\t\tmax_words=100, \\\n",
        "\t\tmax_font_size=300)\n",
        "\n",
        "# 단어 빈도수\n",
        "wc = wc.generate_from_frequencies(sent_count3)\n",
        "\n",
        "plt.figure(figsize=(10,10))\n",
        "plt.imshow(wc, interpolation='bilinear')\n",
        "plt.axis('off')\n",
        "plt.show()"
      ]
    },
    {
      "cell_type": "markdown",
      "metadata": {
        "id": "R-D5bnKUtCCy"
      },
      "source": [
        "\n",
        "\n",
        "---\n",
        "\n"
      ]
    }
  ],
  "metadata": {
    "colab": {
      "collapsed_sections": [],
      "provenance": []
    },
    "kernelspec": {
      "display_name": "Python 3 (ipykernel)",
      "language": "python",
      "name": "python3"
    },
    "language_info": {
      "codemirror_mode": {
        "name": "ipython",
        "version": 3
      },
      "file_extension": ".py",
      "mimetype": "text/x-python",
      "name": "python",
      "nbconvert_exporter": "python",
      "pygments_lexer": "ipython3",
      "version": "3.9.12"
    }
  },
  "nbformat": 4,
  "nbformat_minor": 0
}